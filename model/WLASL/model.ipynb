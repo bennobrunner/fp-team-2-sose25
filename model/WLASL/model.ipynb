{
 "cells": [
  {
   "cell_type": "code",
   "execution_count": 6,
   "id": "26451bbc",
   "metadata": {},
   "outputs": [
    {
     "name": "stdout",
     "output_type": "stream",
     "text": [
      "Requirement already satisfied: tqdm in ./.venv/lib/python3.12/site-packages (4.67.1)\n",
      "Requirement already satisfied: opencv-python in ./.venv/lib/python3.12/site-packages (4.12.0.88)\n",
      "Requirement already satisfied: einops in ./.venv/lib/python3.12/site-packages (0.8.1)\n",
      "Requirement already satisfied: seaborn in ./.venv/lib/python3.12/site-packages (0.13.2)\n",
      "Requirement already satisfied: imageio in ./.venv/lib/python3.12/site-packages (2.37.0)\n",
      "Requirement already satisfied: tensorflow[and-cuda] in ./.venv/lib/python3.12/site-packages (2.20.0)\n",
      "Requirement already satisfied: numpy<2.3.0,>=2 in ./.venv/lib/python3.12/site-packages (from opencv-python) (2.1.3)\n",
      "Requirement already satisfied: pandas>=1.2 in ./.venv/lib/python3.12/site-packages (from seaborn) (2.3.1)\n",
      "Requirement already satisfied: matplotlib!=3.6.1,>=3.4 in ./.venv/lib/python3.12/site-packages (from seaborn) (3.10.5)\n",
      "Requirement already satisfied: absl-py>=1.0.0 in ./.venv/lib/python3.12/site-packages (from tensorflow[and-cuda]) (2.3.1)\n",
      "Requirement already satisfied: astunparse>=1.6.0 in ./.venv/lib/python3.12/site-packages (from tensorflow[and-cuda]) (1.6.3)\n",
      "Requirement already satisfied: flatbuffers>=24.3.25 in ./.venv/lib/python3.12/site-packages (from tensorflow[and-cuda]) (25.2.10)\n",
      "Requirement already satisfied: gast!=0.5.0,!=0.5.1,!=0.5.2,>=0.2.1 in ./.venv/lib/python3.12/site-packages (from tensorflow[and-cuda]) (0.6.0)\n",
      "Requirement already satisfied: google_pasta>=0.1.1 in ./.venv/lib/python3.12/site-packages (from tensorflow[and-cuda]) (0.2.0)\n",
      "Requirement already satisfied: libclang>=13.0.0 in ./.venv/lib/python3.12/site-packages (from tensorflow[and-cuda]) (18.1.1)\n",
      "Requirement already satisfied: opt_einsum>=2.3.2 in ./.venv/lib/python3.12/site-packages (from tensorflow[and-cuda]) (3.4.0)\n",
      "Requirement already satisfied: packaging in ./.venv/lib/python3.12/site-packages (from tensorflow[and-cuda]) (25.0)\n",
      "Requirement already satisfied: protobuf>=5.28.0 in ./.venv/lib/python3.12/site-packages (from tensorflow[and-cuda]) (5.29.5)\n",
      "Requirement already satisfied: requests<3,>=2.21.0 in ./.venv/lib/python3.12/site-packages (from tensorflow[and-cuda]) (2.32.4)\n",
      "Requirement already satisfied: setuptools in ./.venv/lib/python3.12/site-packages (from tensorflow[and-cuda]) (80.9.0)\n",
      "Requirement already satisfied: six>=1.12.0 in ./.venv/lib/python3.12/site-packages (from tensorflow[and-cuda]) (1.17.0)\n",
      "Requirement already satisfied: termcolor>=1.1.0 in ./.venv/lib/python3.12/site-packages (from tensorflow[and-cuda]) (3.1.0)\n",
      "Requirement already satisfied: typing_extensions>=3.6.6 in ./.venv/lib/python3.12/site-packages (from tensorflow[and-cuda]) (4.14.1)\n",
      "Requirement already satisfied: wrapt>=1.11.0 in ./.venv/lib/python3.12/site-packages (from tensorflow[and-cuda]) (1.17.2)\n",
      "Requirement already satisfied: grpcio<2.0,>=1.24.3 in ./.venv/lib/python3.12/site-packages (from tensorflow[and-cuda]) (1.74.0)\n",
      "Requirement already satisfied: tensorboard~=2.20.0 in ./.venv/lib/python3.12/site-packages (from tensorflow[and-cuda]) (2.20.0)\n",
      "Requirement already satisfied: keras>=3.10.0 in ./.venv/lib/python3.12/site-packages (from tensorflow[and-cuda]) (3.11.1)\n",
      "Requirement already satisfied: h5py>=3.11.0 in ./.venv/lib/python3.12/site-packages (from tensorflow[and-cuda]) (3.14.0)\n",
      "Requirement already satisfied: ml_dtypes<1.0.0,>=0.5.1 in ./.venv/lib/python3.12/site-packages (from tensorflow[and-cuda]) (0.5.3)\n",
      "Requirement already satisfied: nvidia-cublas-cu12<13.0,>=12.5.3.2 in ./.venv/lib/python3.12/site-packages (from tensorflow[and-cuda]) (12.5.3.2)\n",
      "Requirement already satisfied: nvidia-cuda-cupti-cu12<13.0,>=12.5.82 in ./.venv/lib/python3.12/site-packages (from tensorflow[and-cuda]) (12.5.82)\n",
      "Requirement already satisfied: nvidia-cuda-nvcc-cu12<13.0,>=12.5.82 in ./.venv/lib/python3.12/site-packages (from tensorflow[and-cuda]) (12.5.82)\n",
      "Requirement already satisfied: nvidia-cuda-nvrtc-cu12<13.0,>=12.5.82 in ./.venv/lib/python3.12/site-packages (from tensorflow[and-cuda]) (12.5.82)\n",
      "Requirement already satisfied: nvidia-cuda-runtime-cu12<13.0,>=12.5.82 in ./.venv/lib/python3.12/site-packages (from tensorflow[and-cuda]) (12.5.82)\n",
      "Requirement already satisfied: nvidia-cudnn-cu12<10.0,>=9.3.0.75 in ./.venv/lib/python3.12/site-packages (from tensorflow[and-cuda]) (9.3.0.75)\n",
      "Requirement already satisfied: nvidia-cufft-cu12<12.0,>=11.2.3.61 in ./.venv/lib/python3.12/site-packages (from tensorflow[and-cuda]) (11.2.3.61)\n",
      "Requirement already satisfied: nvidia-curand-cu12<11.0,>=10.3.6.82 in ./.venv/lib/python3.12/site-packages (from tensorflow[and-cuda]) (10.3.6.82)\n",
      "Requirement already satisfied: nvidia-cusolver-cu12<12.0,>=11.6.3.83 in ./.venv/lib/python3.12/site-packages (from tensorflow[and-cuda]) (11.6.3.83)\n",
      "Requirement already satisfied: nvidia-cusparse-cu12<13.0,>=12.5.1.3 in ./.venv/lib/python3.12/site-packages (from tensorflow[and-cuda]) (12.5.1.3)\n",
      "Requirement already satisfied: nvidia-nccl-cu12<3.0,>=2.25.1 in ./.venv/lib/python3.12/site-packages (from tensorflow[and-cuda]) (2.27.7)\n",
      "Requirement already satisfied: nvidia-nvjitlink-cu12<13.0,>=12.5.82 in ./.venv/lib/python3.12/site-packages (from tensorflow[and-cuda]) (12.5.82)\n",
      "Requirement already satisfied: charset_normalizer<4,>=2 in ./.venv/lib/python3.12/site-packages (from requests<3,>=2.21.0->tensorflow[and-cuda]) (3.4.2)\n",
      "Requirement already satisfied: idna<4,>=2.5 in ./.venv/lib/python3.12/site-packages (from requests<3,>=2.21.0->tensorflow[and-cuda]) (3.10)\n",
      "Requirement already satisfied: urllib3<3,>=1.21.1 in ./.venv/lib/python3.12/site-packages (from requests<3,>=2.21.0->tensorflow[and-cuda]) (2.5.0)\n",
      "Requirement already satisfied: certifi>=2017.4.17 in ./.venv/lib/python3.12/site-packages (from requests<3,>=2.21.0->tensorflow[and-cuda]) (2025.8.3)\n",
      "Requirement already satisfied: markdown>=2.6.8 in ./.venv/lib/python3.12/site-packages (from tensorboard~=2.20.0->tensorflow[and-cuda]) (3.8.2)\n",
      "Requirement already satisfied: pillow in ./.venv/lib/python3.12/site-packages (from tensorboard~=2.20.0->tensorflow[and-cuda]) (11.3.0)\n",
      "Requirement already satisfied: tensorboard-data-server<0.8.0,>=0.7.0 in ./.venv/lib/python3.12/site-packages (from tensorboard~=2.20.0->tensorflow[and-cuda]) (0.7.2)\n",
      "Requirement already satisfied: werkzeug>=1.0.1 in ./.venv/lib/python3.12/site-packages (from tensorboard~=2.20.0->tensorflow[and-cuda]) (3.1.3)\n",
      "Requirement already satisfied: wheel<1.0,>=0.23.0 in ./.venv/lib/python3.12/site-packages (from astunparse>=1.6.0->tensorflow[and-cuda]) (0.45.1)\n",
      "Requirement already satisfied: rich in ./.venv/lib/python3.12/site-packages (from keras>=3.10.0->tensorflow[and-cuda]) (14.1.0)\n",
      "Requirement already satisfied: namex in ./.venv/lib/python3.12/site-packages (from keras>=3.10.0->tensorflow[and-cuda]) (0.1.0)\n",
      "Requirement already satisfied: optree in ./.venv/lib/python3.12/site-packages (from keras>=3.10.0->tensorflow[and-cuda]) (0.17.0)\n",
      "Requirement already satisfied: contourpy>=1.0.1 in ./.venv/lib/python3.12/site-packages (from matplotlib!=3.6.1,>=3.4->seaborn) (1.3.3)\n",
      "Requirement already satisfied: cycler>=0.10 in ./.venv/lib/python3.12/site-packages (from matplotlib!=3.6.1,>=3.4->seaborn) (0.12.1)\n",
      "Requirement already satisfied: fonttools>=4.22.0 in ./.venv/lib/python3.12/site-packages (from matplotlib!=3.6.1,>=3.4->seaborn) (4.59.0)\n",
      "Requirement already satisfied: kiwisolver>=1.3.1 in ./.venv/lib/python3.12/site-packages (from matplotlib!=3.6.1,>=3.4->seaborn) (1.4.8)\n",
      "Requirement already satisfied: pyparsing>=2.3.1 in ./.venv/lib/python3.12/site-packages (from matplotlib!=3.6.1,>=3.4->seaborn) (3.2.3)\n",
      "Requirement already satisfied: python-dateutil>=2.7 in ./.venv/lib/python3.12/site-packages (from matplotlib!=3.6.1,>=3.4->seaborn) (2.9.0.post0)\n",
      "Requirement already satisfied: pytz>=2020.1 in ./.venv/lib/python3.12/site-packages (from pandas>=1.2->seaborn) (2025.2)\n",
      "Requirement already satisfied: tzdata>=2022.7 in ./.venv/lib/python3.12/site-packages (from pandas>=1.2->seaborn) (2025.2)\n",
      "Requirement already satisfied: MarkupSafe>=2.1.1 in ./.venv/lib/python3.12/site-packages (from werkzeug>=1.0.1->tensorboard~=2.20.0->tensorflow[and-cuda]) (3.0.2)\n",
      "Requirement already satisfied: markdown-it-py>=2.2.0 in ./.venv/lib/python3.12/site-packages (from rich->keras>=3.10.0->tensorflow[and-cuda]) (3.0.0)\n",
      "Requirement already satisfied: pygments<3.0.0,>=2.13.0 in ./.venv/lib/python3.12/site-packages (from rich->keras>=3.10.0->tensorflow[and-cuda]) (2.19.2)\n",
      "Requirement already satisfied: mdurl~=0.1 in ./.venv/lib/python3.12/site-packages (from markdown-it-py>=2.2.0->rich->keras>=3.10.0->tensorflow[and-cuda]) (0.1.2)\n"
     ]
    }
   ],
   "source": [
    "!pip install --upgrade tqdm opencv-python einops seaborn tensorflow[and-cuda] imageio"
   ]
  },
  {
   "cell_type": "code",
   "execution_count": 7,
   "id": "4358ba41",
   "metadata": {},
   "outputs": [],
   "source": [
    "from constants import PROCESSED_VIDEOS_DIR, WIDTH, HEIGHT, CLASSES\n",
    "\n",
    "import pathlib\n",
    "import json\n",
    "import cv2\n",
    "import numpy as np\n",
    "import seaborn as sns\n",
    "import matplotlib.pyplot as plt\n",
    "\n",
    "import tensorflow as tf\n",
    "import keras\n",
    "from keras import layers, models\n",
    "from keras.applications import VGG16\n",
    "physical_devices = tf.config.list_physical_devices('GPU')\n",
    "try:\n",
    "  tf.config.experimental.set_memory_growth(physical_devices[0], True)\n",
    "except:\n",
    "  # Invalid device or cannot modify virtual devices once initialized.\n",
    "  pass"
   ]
  },
  {
   "cell_type": "code",
   "execution_count": 8,
   "id": "30bd5935",
   "metadata": {},
   "outputs": [],
   "source": [
    "with open('./data/WLASL_v0.3.json', 'r') as file:\n",
    "  data = json.load(file)\n",
    "\n",
    "videos = {}\n",
    "for entry in data:\n",
    "  if entry[\"gloss\"] in CLASSES:\n",
    "    for inst in entry[\"instances\"]:\n",
    "      video = pathlib.Path(PROCESSED_VIDEOS_DIR / f\"{inst[\"video_id\"]}.mp4\")\n",
    "      if video.exists():\n",
    "        videos[inst[\"video_id\"]] = {\n",
    "          \"path\": video,\n",
    "          \"split\": inst[\"split\"],\n",
    "          \"gloss\": entry[\"gloss\"]\n",
    "        }\n",
    "\n",
    "split_map = {\"train\": [], \"val\": [], \"test\": []}\n",
    "\n",
    "for video_id, video in videos.items():\n",
    "  split_map[video[\"split\"]].append((video[\"split\"], video[\"gloss\"]))"
   ]
  },
  {
   "cell_type": "code",
   "execution_count": 4,
   "id": "5ea55fb5",
   "metadata": {},
   "outputs": [],
   "source": [
    "class ConvNet2D(tf.keras.Model):\n",
    "    def __init__(self, num_classes, hidden_size=128, num_layers=2, dropout_rate=0.2):\n",
    "        \"\"\"\n",
    "        2D Conv RNN model for sign language classification\n",
    "        \n",
    "        Args:\n",
    "            num_classes: Number of sign language classes to predict\n",
    "            hidden_size: Hidden size for GRU layers (64, 96, 128, or 256 based on subset)\n",
    "            num_layers: Number of stacked GRU layers (default: 2)\n",
    "            dropout_rate: Dropout rate for regularization\n",
    "        \"\"\"\n",
    "        super(ConvNet2D, self).__init__()\n",
    "        \n",
    "        self.num_classes = num_classes\n",
    "        self.hidden_size = hidden_size\n",
    "        self.num_layers = num_layers\n",
    "        \n",
    "        # VGG16 backbone for spatial feature extraction\n",
    "        # Remove the top classification layers and use as feature extractor\n",
    "        self.vgg16_base = VGG16(\n",
    "            weights='imagenet',\n",
    "            include_top=False,\n",
    "            input_shape=(HEIGHT, WIDTH, 3),\n",
    "            pooling='avg'  # Global average pooling\n",
    "        )\n",
    "        \n",
    "        # Freeze VGG16 layers (optional - you can unfreeze for fine-tuning)\n",
    "        self.vgg16_base.trainable = True\n",
    "        \n",
    "        # Time distributed wrapper to apply VGG16 to each frame\n",
    "        self.time_distributed_cnn = layers.TimeDistributed(\n",
    "            self.vgg16_base,\n",
    "            name='time_distributed_vgg16'\n",
    "        )\n",
    "        \n",
    "        # Stacked GRU layers\n",
    "        self.gru_layers = []\n",
    "        for i in range(num_layers):\n",
    "            return_sequences = True if i < num_layers - 1 else True  # Always return sequences for pooling\n",
    "            self.gru_layers.append(\n",
    "                layers.GRU(\n",
    "                    hidden_size,\n",
    "                    return_sequences=return_sequences,\n",
    "                    dropout=dropout_rate,\n",
    "                    recurrent_dropout=dropout_rate,\n",
    "                    name=f'gru_layer_{i+1}'\n",
    "                )\n",
    "            )\n",
    "        \n",
    "        # Global average pooling over time dimension\n",
    "        self.global_avg_pool = layers.GlobalAveragePooling1D(name='global_avg_pool')\n",
    "        \n",
    "        # Classification head\n",
    "        self.classifier = layers.Dense(\n",
    "            num_classes,\n",
    "            activation='softmax',\n",
    "            name='classifier'\n",
    "        )\n",
    "        \n",
    "        # Additional dense layer for regularization (optional)\n",
    "        self.dropout = layers.Dropout(dropout_rate)\n",
    "        \n",
    "    def call(self, inputs, training=None):\n",
    "        \"\"\"\n",
    "        Forward pass\n",
    "        \n",
    "        Args:\n",
    "            inputs: Video tensor of shape (batch_size, time_steps, height, width, channels)\n",
    "            training: Whether in training mode\n",
    "            \n",
    "        Returns:\n",
    "            predictions: Class predictions of shape (batch_size, num_classes)\n",
    "            all_outputs: All time step outputs for training loss (batch_size, time_steps, num_classes)\n",
    "        \"\"\"\n",
    "        # Extract spatial features using VGG16\n",
    "        # Input: (batch_size, time_steps, height, width, channels)\n",
    "        # Output: (batch_size, time_steps, feature_dim)\n",
    "        spatial_features = self.time_distributed_cnn(inputs, training=training)\n",
    "        \n",
    "        # Process through stacked GRU layers\n",
    "        x = spatial_features\n",
    "        for gru_layer in self.gru_layers:\n",
    "            x = gru_layer(x, training=training)\n",
    "        \n",
    "        # x shape: (batch_size, time_steps, hidden_size)\n",
    "        \n",
    "        # Get predictions for all time steps (for training loss)\n",
    "        all_time_predictions = layers.TimeDistributed(self.classifier)(x)\n",
    "        \n",
    "        # Global average pooling for final prediction\n",
    "        pooled_features = self.global_avg_pool(x)\n",
    "        pooled_features = self.dropout(pooled_features, training=training)\n",
    "        final_prediction = self.classifier(pooled_features)\n",
    "        \n",
    "        return final_prediction, all_time_predictions\n",
    "\n",
    "def create_model(num_classes, hidden_size=128):\n",
    "    \"\"\"\n",
    "    Create and compile the 2D Conv RNN model\n",
    "    \n",
    "    Args:\n",
    "        num_classes: Number of sign language classes\n",
    "        hidden_size: GRU hidden size (choose from 64, 96, 128, 256 based on subset)\n",
    "    \n",
    "    Returns:\n",
    "        Compiled Keras model\n",
    "    \"\"\"\n",
    "    model = ConvNet2D(\n",
    "        num_classes=num_classes,\n",
    "        hidden_size=hidden_size,\n",
    "        num_layers=2\n",
    "    )\n",
    "    \n",
    "    # Build the model by calling it with dummy input\n",
    "    dummy_input = tf.random.normal((1, 50, HEIGHT, WIDTH, 3))  # Max 50 frames as mentioned\n",
    "    _ = model(dummy_input)\n",
    "    \n",
    "    return model\n",
    "\n",
    "def custom_loss_function(y_true, y_pred_tuple):\n",
    "    \"\"\"\n",
    "    Custom loss function that combines:\n",
    "    1. Cross-entropy loss on final pooled prediction\n",
    "    2. Cross-entropy loss on all time step predictions\n",
    "    \n",
    "    Args:\n",
    "        y_true: True labels\n",
    "        y_pred_tuple: Tuple of (final_prediction, all_time_predictions)\n",
    "    \"\"\"\n",
    "    final_pred, all_time_pred = y_pred_tuple\n",
    "    \n",
    "    # Loss on final prediction (from average pooling)\n",
    "    final_loss = tf.keras.losses.sparse_categorical_crossentropy(y_true, final_pred)\n",
    "    \n",
    "    # Loss on all time step predictions\n",
    "    # Expand y_true to match time dimension\n",
    "    time_steps = tf.shape(all_time_pred)[1]\n",
    "    y_true_expanded = tf.expand_dims(y_true, 1)  # (batch_size, 1)\n",
    "    y_true_tiled = tf.tile(y_true_expanded, [1, time_steps])  # (batch_size, time_steps)\n",
    "    \n",
    "    all_time_loss = tf.keras.losses.sparse_categorical_crossentropy(\n",
    "        y_true_tiled, all_time_pred\n",
    "    )\n",
    "    all_time_loss = tf.reduce_mean(all_time_loss, axis=1)  # Average over time\n",
    "    \n",
    "    # Combine losses (you can weight them differently)\n",
    "    total_loss = final_loss + all_time_loss\n",
    "    \n",
    "    return total_loss\n",
    "\n",
    "def preprocess_video_batch(video_data_list, max_frames=50, is_training=True):\n",
    "    \"\"\"\n",
    "    Preprocess a batch of videos for training/testing\n",
    "    \n",
    "    Args:\n",
    "        video_data_list: List of tuples (video_path, gloss) from your split_map\n",
    "        max_frames: Maximum number of frames to use (50 for training, all for testing)\n",
    "        is_training: Whether in training mode (affects frame sampling)\n",
    "    \n",
    "    Returns:\n",
    "        batch_videos: Preprocessed video tensor of shape (batch_size, max_time_steps, HEIGHT, WIDTH, 3)\n",
    "        batch_labels: Labels for the videos\n",
    "    \"\"\"\n",
    "    batch_videos = []\n",
    "    batch_labels = []\n",
    "    \n",
    "    for video_path, gloss in video_data_list:\n",
    "        try:\n",
    "            # Load video frames\n",
    "            frames = load_video_frames(video_path)  # Shape: (num_frames, height, width, channels)\n",
    "            \n",
    "            # Resize frames to target size\n",
    "            frames = tf.image.resize(frames, [HEIGHT, WIDTH])\n",
    "            \n",
    "            # Normalize pixel values to [0, 1]\n",
    "            frames = tf.cast(frames, tf.float32) / 255.0\n",
    "            \n",
    "            # Frame sampling strategy\n",
    "            num_frames = tf.shape(frames)[0]\n",
    "            \n",
    "            if is_training:\n",
    "                # For training: randomly select up to max_frames consecutive frames\n",
    "                if num_frames > max_frames:\n",
    "                    start_idx = tf.random.uniform([], 0, num_frames - max_frames + 1, dtype=tf.int32)\n",
    "                    frames = frames[start_idx:start_idx + max_frames]\n",
    "            else:\n",
    "                # For testing: use all frames (you might want to subsample for efficiency)\n",
    "                # Optionally limit frames for memory constraints\n",
    "                if max_frames > 0 and num_frames > max_frames:\n",
    "                    # Take evenly spaced frames\n",
    "                    indices = tf.cast(tf.linspace(0, tf.cast(num_frames-1, tf.float32), max_frames), tf.int32)\n",
    "                    frames = tf.gather(frames, indices)\n",
    "            \n",
    "            batch_videos.append(frames)\n",
    "            batch_labels.append(gloss)\n",
    "            \n",
    "        except Exception as e:\n",
    "            print(f\"Error processing video {video_path}: {e}\")\n",
    "            continue\n",
    "    \n",
    "    if not batch_videos:\n",
    "        raise ValueError(\"No valid videos in batch\")\n",
    "    \n",
    "    # Pad sequences to same length for batching\n",
    "    max_len = max(len(video) for video in batch_videos)\n",
    "    padded_videos = []\n",
    "    \n",
    "    for video in batch_videos:\n",
    "        video_len = tf.shape(video)[0]\n",
    "        if video_len < max_len:\n",
    "            # Pad with zeros (or repeat last frame)\n",
    "            padding = tf.zeros((max_len - video_len, HEIGHT, WIDTH, 3), dtype=tf.float32)\n",
    "            video = tf.concat([video, padding], axis=0)\n",
    "        padded_videos.append(video)\n",
    "    \n",
    "    batch_videos = tf.stack(padded_videos)\n",
    "    \n",
    "    return batch_videos, batch_labels\n",
    "\n",
    "def create_tf_dataset(split_data, batch_size=8, is_training=True, max_frames=50):\n",
    "    \"\"\"\n",
    "    Create a TensorFlow dataset from your split_map data\n",
    "    \n",
    "    Args:\n",
    "        split_data: List of (video_path, gloss) tuples from split_map[\"train\"|\"val\"|\"test\"]\n",
    "        batch_size: Batch size\n",
    "        is_training: Whether in training mode\n",
    "        max_frames: Maximum frames per video\n",
    "    \n",
    "    Returns:\n",
    "        tf.data.Dataset\n",
    "    \"\"\"\n",
    "    def generator():\n",
    "        for i in range(0, len(split_data), batch_size):\n",
    "            batch_data = split_data[i:i + batch_size]\n",
    "            try:\n",
    "                videos, labels = preprocess_video_batch(batch_data, max_frames, is_training)\n",
    "                yield videos, labels\n",
    "            except Exception as e:\n",
    "                print(f\"Skipping batch due to error: {e}\")\n",
    "                continue\n",
    "    \n",
    "    # Define output signature\n",
    "    output_signature = (\n",
    "        tf.TensorSpec(shape=(None, None, HEIGHT, WIDTH, 3), dtype=tf.float32),  # videos\n",
    "        tf.TensorSpec(shape=(None,), dtype=tf.string)  # labels\n",
    "    )\n",
    "    \n",
    "    dataset = tf.data.Dataset.from_generator(\n",
    "        generator,\n",
    "        output_signature=output_signature\n",
    "    )\n",
    "    \n",
    "    if is_training:\n",
    "        dataset = dataset.shuffle(buffer_size=100)\n",
    "    \n",
    "    return dataset\n",
    "\n",
    "def load_video_frames(video_path):\n",
    "    \"\"\"\n",
    "    Load video frames from file path using OpenCV\n",
    "    \n",
    "    Args:\n",
    "        video_path: Path to video file (pathlib.Path or string)\n",
    "    \n",
    "    Returns:\n",
    "        frames: Tensor of shape (num_frames, height, width, 3) with values in [0, 255]\n",
    "    \"\"\"\n",
    "    \n",
    "    # Convert pathlib.Path to string if needed\n",
    "    video_path = str(video_path)\n",
    "    \n",
    "    # Open video capture\n",
    "    cap = cv2.VideoCapture(video_path)\n",
    "    \n",
    "    if not cap.isOpened():\n",
    "        raise ValueError(f\"Could not open video file: {video_path}\")\n",
    "    \n",
    "    frames = []\n",
    "    \n",
    "    try:\n",
    "        while True:\n",
    "            ret, frame = cap.read()\n",
    "            if not ret:\n",
    "                break\n",
    "            \n",
    "            # Convert BGR to RGB (OpenCV uses BGR by default)\n",
    "            frame = cv2.cvtColor(frame, cv2.COLOR_BGR2RGB)\n",
    "            frames.append(frame)\n",
    "    \n",
    "    finally:\n",
    "        cap.release()\n",
    "    \n",
    "    if not frames:\n",
    "        raise ValueError(f\"No frames found in video: {video_path}\")\n",
    "    \n",
    "    # Convert to tensor\n",
    "    frames = tf.convert_to_tensor(frames, dtype=tf.uint8)\n",
    "    \n",
    "    return frames"
   ]
  },
  {
   "cell_type": "code",
   "execution_count": null,
   "id": "a97613db",
   "metadata": {},
   "outputs": [
    {
     "name": "stderr",
     "output_type": "stream",
     "text": [
      "WARNING: All log messages before absl::InitializeLog() is called are written to STDERR\n",
      "I0000 00:00:1755191588.771827    9486 gpu_device.cc:2020] Created device /job:localhost/replica:0/task:0/device:GPU:0 with 4055 MB memory:  -> device: 0, name: NVIDIA GeForce RTX 2060, pci bus id: 0000:01:00.0, compute capability: 7.5\n",
      "2025-08-14 19:13:14.694585: I external/local_xla/xla/stream_executor/cuda/cuda_dnn.cc:473] Loaded cuDNN version 90300\n",
      "2025-08-14 19:13:16.492671: W external/local_xla/xla/tsl/framework/bfc_allocator.cc:310] Allocator (GPU_0_bfc) ran out of memory trying to allocate 4.15GiB with freed_by_count=0. The caller indicates that this is not a failure, but this may mean that there could be performance gains if more memory were available.\n"
     ]
    },
    {
     "data": {
      "text/html": [
       "<pre style=\"white-space:pre;overflow-x:auto;line-height:normal;font-family:Menlo,'DejaVu Sans Mono',consolas,'Courier New',monospace\"><span style=\"font-weight: bold\">Model: \"conv_net2d\"</span>\n",
       "</pre>\n"
      ],
      "text/plain": [
       "\u001b[1mModel: \"conv_net2d\"\u001b[0m\n"
      ]
     },
     "metadata": {},
     "output_type": "display_data"
    },
    {
     "data": {
      "text/html": [
       "<pre style=\"white-space:pre;overflow-x:auto;line-height:normal;font-family:Menlo,'DejaVu Sans Mono',consolas,'Courier New',monospace\">┏━━━━━━━━━━━━━━━━━━━━━━━━━━━━━━━━━┳━━━━━━━━━━━━━━━━━━━━━━━━┳━━━━━━━━━━━━━━━┓\n",
       "┃<span style=\"font-weight: bold\"> Layer (type)                    </span>┃<span style=\"font-weight: bold\"> Output Shape           </span>┃<span style=\"font-weight: bold\">       Param # </span>┃\n",
       "┡━━━━━━━━━━━━━━━━━━━━━━━━━━━━━━━━━╇━━━━━━━━━━━━━━━━━━━━━━━━╇━━━━━━━━━━━━━━━┩\n",
       "│ vgg16 (<span style=\"color: #0087ff; text-decoration-color: #0087ff\">Functional</span>)              │ (<span style=\"color: #00d7ff; text-decoration-color: #00d7ff\">None</span>, <span style=\"color: #00af00; text-decoration-color: #00af00\">512</span>)            │    <span style=\"color: #00af00; text-decoration-color: #00af00\">14,714,688</span> │\n",
       "├─────────────────────────────────┼────────────────────────┼───────────────┤\n",
       "│ time_distributed_vgg16          │ (<span style=\"color: #00af00; text-decoration-color: #00af00\">1</span>, <span style=\"color: #00af00; text-decoration-color: #00af00\">50</span>, <span style=\"color: #00af00; text-decoration-color: #00af00\">512</span>)           │    <span style=\"color: #00af00; text-decoration-color: #00af00\">14,714,688</span> │\n",
       "│ (<span style=\"color: #0087ff; text-decoration-color: #0087ff\">TimeDistributed</span>)               │                        │               │\n",
       "├─────────────────────────────────┼────────────────────────┼───────────────┤\n",
       "│ gru_layer_1 (<span style=\"color: #0087ff; text-decoration-color: #0087ff\">GRU</span>)               │ (<span style=\"color: #00af00; text-decoration-color: #00af00\">1</span>, <span style=\"color: #00af00; text-decoration-color: #00af00\">50</span>, <span style=\"color: #00af00; text-decoration-color: #00af00\">128</span>)           │       <span style=\"color: #00af00; text-decoration-color: #00af00\">246,528</span> │\n",
       "├─────────────────────────────────┼────────────────────────┼───────────────┤\n",
       "│ gru_layer_2 (<span style=\"color: #0087ff; text-decoration-color: #0087ff\">GRU</span>)               │ (<span style=\"color: #00af00; text-decoration-color: #00af00\">1</span>, <span style=\"color: #00af00; text-decoration-color: #00af00\">50</span>, <span style=\"color: #00af00; text-decoration-color: #00af00\">128</span>)           │        <span style=\"color: #00af00; text-decoration-color: #00af00\">99,072</span> │\n",
       "├─────────────────────────────────┼────────────────────────┼───────────────┤\n",
       "│ global_avg_pool                 │ ?                      │             <span style=\"color: #00af00; text-decoration-color: #00af00\">0</span> │\n",
       "│ (<span style=\"color: #0087ff; text-decoration-color: #0087ff\">GlobalAveragePooling1D</span>)        │                        │               │\n",
       "├─────────────────────────────────┼────────────────────────┼───────────────┤\n",
       "│ classifier (<span style=\"color: #0087ff; text-decoration-color: #0087ff\">Dense</span>)              │ (<span style=\"color: #00af00; text-decoration-color: #00af00\">1</span>, <span style=\"color: #00af00; text-decoration-color: #00af00\">3</span>)                 │           <span style=\"color: #00af00; text-decoration-color: #00af00\">387</span> │\n",
       "├─────────────────────────────────┼────────────────────────┼───────────────┤\n",
       "│ dropout (<span style=\"color: #0087ff; text-decoration-color: #0087ff\">Dropout</span>)               │ ?                      │             <span style=\"color: #00af00; text-decoration-color: #00af00\">0</span> │\n",
       "└─────────────────────────────────┴────────────────────────┴───────────────┘\n",
       "</pre>\n"
      ],
      "text/plain": [
       "┏━━━━━━━━━━━━━━━━━━━━━━━━━━━━━━━━━┳━━━━━━━━━━━━━━━━━━━━━━━━┳━━━━━━━━━━━━━━━┓\n",
       "┃\u001b[1m \u001b[0m\u001b[1mLayer (type)                   \u001b[0m\u001b[1m \u001b[0m┃\u001b[1m \u001b[0m\u001b[1mOutput Shape          \u001b[0m\u001b[1m \u001b[0m┃\u001b[1m \u001b[0m\u001b[1m      Param #\u001b[0m\u001b[1m \u001b[0m┃\n",
       "┡━━━━━━━━━━━━━━━━━━━━━━━━━━━━━━━━━╇━━━━━━━━━━━━━━━━━━━━━━━━╇━━━━━━━━━━━━━━━┩\n",
       "│ vgg16 (\u001b[38;5;33mFunctional\u001b[0m)              │ (\u001b[38;5;45mNone\u001b[0m, \u001b[38;5;34m512\u001b[0m)            │    \u001b[38;5;34m14,714,688\u001b[0m │\n",
       "├─────────────────────────────────┼────────────────────────┼───────────────┤\n",
       "│ time_distributed_vgg16          │ (\u001b[38;5;34m1\u001b[0m, \u001b[38;5;34m50\u001b[0m, \u001b[38;5;34m512\u001b[0m)           │    \u001b[38;5;34m14,714,688\u001b[0m │\n",
       "│ (\u001b[38;5;33mTimeDistributed\u001b[0m)               │                        │               │\n",
       "├─────────────────────────────────┼────────────────────────┼───────────────┤\n",
       "│ gru_layer_1 (\u001b[38;5;33mGRU\u001b[0m)               │ (\u001b[38;5;34m1\u001b[0m, \u001b[38;5;34m50\u001b[0m, \u001b[38;5;34m128\u001b[0m)           │       \u001b[38;5;34m246,528\u001b[0m │\n",
       "├─────────────────────────────────┼────────────────────────┼───────────────┤\n",
       "│ gru_layer_2 (\u001b[38;5;33mGRU\u001b[0m)               │ (\u001b[38;5;34m1\u001b[0m, \u001b[38;5;34m50\u001b[0m, \u001b[38;5;34m128\u001b[0m)           │        \u001b[38;5;34m99,072\u001b[0m │\n",
       "├─────────────────────────────────┼────────────────────────┼───────────────┤\n",
       "│ global_avg_pool                 │ ?                      │             \u001b[38;5;34m0\u001b[0m │\n",
       "│ (\u001b[38;5;33mGlobalAveragePooling1D\u001b[0m)        │                        │               │\n",
       "├─────────────────────────────────┼────────────────────────┼───────────────┤\n",
       "│ classifier (\u001b[38;5;33mDense\u001b[0m)              │ (\u001b[38;5;34m1\u001b[0m, \u001b[38;5;34m3\u001b[0m)                 │           \u001b[38;5;34m387\u001b[0m │\n",
       "├─────────────────────────────────┼────────────────────────┼───────────────┤\n",
       "│ dropout (\u001b[38;5;33mDropout\u001b[0m)               │ ?                      │             \u001b[38;5;34m0\u001b[0m │\n",
       "└─────────────────────────────────┴────────────────────────┴───────────────┘\n"
      ]
     },
     "metadata": {},
     "output_type": "display_data"
    },
    {
     "data": {
      "text/html": [
       "<pre style=\"white-space:pre;overflow-x:auto;line-height:normal;font-family:Menlo,'DejaVu Sans Mono',consolas,'Courier New',monospace\"><span style=\"font-weight: bold\"> Total params: </span><span style=\"color: #00af00; text-decoration-color: #00af00\">15,060,675</span> (57.45 MB)\n",
       "</pre>\n"
      ],
      "text/plain": [
       "\u001b[1m Total params: \u001b[0m\u001b[38;5;34m15,060,675\u001b[0m (57.45 MB)\n"
      ]
     },
     "metadata": {},
     "output_type": "display_data"
    },
    {
     "data": {
      "text/html": [
       "<pre style=\"white-space:pre;overflow-x:auto;line-height:normal;font-family:Menlo,'DejaVu Sans Mono',consolas,'Courier New',monospace\"><span style=\"font-weight: bold\"> Trainable params: </span><span style=\"color: #00af00; text-decoration-color: #00af00\">15,060,675</span> (57.45 MB)\n",
       "</pre>\n"
      ],
      "text/plain": [
       "\u001b[1m Trainable params: \u001b[0m\u001b[38;5;34m15,060,675\u001b[0m (57.45 MB)\n"
      ]
     },
     "metadata": {},
     "output_type": "display_data"
    },
    {
     "data": {
      "text/html": [
       "<pre style=\"white-space:pre;overflow-x:auto;line-height:normal;font-family:Menlo,'DejaVu Sans Mono',consolas,'Courier New',monospace\"><span style=\"font-weight: bold\"> Non-trainable params: </span><span style=\"color: #00af00; text-decoration-color: #00af00\">0</span> (0.00 B)\n",
       "</pre>\n"
      ],
      "text/plain": [
       "\u001b[1m Non-trainable params: \u001b[0m\u001b[38;5;34m0\u001b[0m (0.00 B)\n"
      ]
     },
     "metadata": {},
     "output_type": "display_data"
    },
    {
     "ename": "NameError",
     "evalue": "name 'FrameGenerator' is not defined",
     "output_type": "error",
     "traceback": [
      "\u001b[31m---------------------------------------------------------------------------\u001b[39m",
      "\u001b[31mNameError\u001b[39m                                 Traceback (most recent call last)",
      "\u001b[36mCell\u001b[39m\u001b[36m \u001b[39m\u001b[32mIn[5]\u001b[39m\u001b[32m, line 18\u001b[39m\n\u001b[32m     12\u001b[39m \u001b[38;5;66;03m# Create tf.data.Dataset objects\u001b[39;00m\n\u001b[32m     13\u001b[39m output_signature = (\n\u001b[32m     14\u001b[39m     tf.TensorSpec(shape=(\u001b[38;5;28;01mNone\u001b[39;00m, \u001b[38;5;28;01mNone\u001b[39;00m, \u001b[38;5;28;01mNone\u001b[39;00m, \u001b[32m3\u001b[39m), dtype=tf.float32),\n\u001b[32m     15\u001b[39m     tf.TensorSpec(shape=(), dtype=tf.int16)\n\u001b[32m     16\u001b[39m )\n\u001b[32m---> \u001b[39m\u001b[32m18\u001b[39m train_ds = tf.data.Dataset.from_generator(\u001b[43mFrameGenerator\u001b[49m(split_map[\u001b[33m\"\u001b[39m\u001b[33mtrain\u001b[39m\u001b[33m\"\u001b[39m], N_FRAMES),\n\u001b[32m     19\u001b[39m                                         output_signature=output_signature)\n\u001b[32m     20\u001b[39m val_ds = tf.data.Dataset.from_generator(FrameGenerator(split_map[\u001b[33m\"\u001b[39m\u001b[33mval\u001b[39m\u001b[33m\"\u001b[39m], N_FRAMES),\n\u001b[32m     21\u001b[39m                                         output_signature=output_signature)\n\u001b[32m     22\u001b[39m test_ds = tf.data.Dataset.from_generator(FrameGenerator(split_map[\u001b[33m\"\u001b[39m\u001b[33mtest\u001b[39m\u001b[33m\"\u001b[39m], N_FRAMES),\n\u001b[32m     23\u001b[39m                                         output_signature=output_signature)\n",
      "\u001b[31mNameError\u001b[39m: name 'FrameGenerator' is not defined"
     ]
    }
   ],
   "source": [
    "\n",
    "\n",
    "HIDDEN_SIZE = 128\n",
    "model = create_model(len(CLASSES), HIDDEN_SIZE)\n",
    "model.compile(\n",
    "        optimizer=tf.keras.optimizers.Adam(learning_rate=0.001),\n",
    "        loss=custom_loss_function,\n",
    "        metrics=['accuracy']\n",
    "    )\n",
    "model.summary()\n",
    "\n",
    "batch_size = 8\n",
    "\n",
    "# Create tf.data.Dataset objects\n",
    "output_signature = (\n",
    "    tf.TensorSpec(shape=(None, None, None, 3), dtype=tf.float32),\n",
    "    tf.TensorSpec(shape=(), dtype=tf.int16)\n",
    ")\n",
    "\n",
    "train_ds = tf.data.Dataset.from_generator(FrameGenerator(split_map[\"train\"], N_FRAMES),\n",
    "                                        output_signature=output_signature)\n",
    "val_ds = tf.data.Dataset.from_generator(FrameGenerator(split_map[\"val\"], N_FRAMES),\n",
    "                                        output_signature=output_signature)\n",
    "test_ds = tf.data.Dataset.from_generator(FrameGenerator(split_map[\"test\"], N_FRAMES),\n",
    "                                        output_signature=output_signature)\n",
    "\n",
    "# Batch and prefetch\n",
    "AUTOTUNE = tf.data.AUTOTUNE\n",
    "train_ds = train_ds.batch(batch_size).cache().shuffle(1000).prefetch(buffer_size=AUTOTUNE)\n",
    "val_ds = val_ds.batch(batch_size).cache().shuffle(1000).prefetch(buffer_size=AUTOTUNE)\n",
    "test_ds = test_ds.batch(batch_size).cache().shuffle(1000).prefetch(buffer_size=AUTOTUNE)\n",
    "\n",
    "# Quick check\n",
    "train_frames, train_labels = next(iter(train_ds))\n",
    "print(f\"Train frames: {train_frames.shape}, labels: {train_labels.shape}\")"
   ]
  },
  {
   "cell_type": "code",
   "execution_count": 63,
   "id": "a7c112cf",
   "metadata": {},
   "outputs": [],
   "source": [
    "# Model input\n",
    "input_shape = (N_FRAMES, HEIGHT, WIDTH, 3)\n",
    "inputs = layers.Input(shape=input_shape)\n",
    "x = inputs\n",
    "\n",
    "x = Conv2Plus1D(filters=16, kernel_size=(3, 7, 7), padding='same')(x)\n",
    "x = layers.BatchNormalization()(x)\n",
    "x = layers.ReLU()(x)\n",
    "x = ResizeVideo(HEIGHT // 2, WIDTH // 2)(x)\n",
    "\n",
    "x = add_residual_block(x, 16, (3, 3, 3))\n",
    "x = ResizeVideo(HEIGHT // 4, WIDTH // 4)(x)\n",
    "\n",
    "x = add_residual_block(x, 32, (3, 3, 3))\n",
    "x = ResizeVideo(HEIGHT // 8, WIDTH // 8)(x)\n",
    "\n",
    "x = add_residual_block(x, 64, (3, 3, 3))\n",
    "x = ResizeVideo(HEIGHT // 16, WIDTH // 16)(x)\n",
    "\n",
    "x = add_residual_block(x, 128, (3, 3, 3))\n",
    "\n",
    "x = layers.GlobalAveragePooling3D()(x)\n",
    "x = layers.Flatten()(x)\n",
    "outputs = layers.Dense(NUM_CLASSES)(x)\n",
    "\n",
    "model = keras.Model(inputs, outputs)"
   ]
  },
  {
   "cell_type": "code",
   "execution_count": 64,
   "id": "3c9ea8ea",
   "metadata": {},
   "outputs": [
    {
     "name": "stdout",
     "output_type": "stream",
     "text": [
      "You must install pydot (`pip install pydot`) for `plot_model` to work.\n"
     ]
    }
   ],
   "source": [
    "keras.utils.plot_model(model, expand_nested=True, dpi=60, show_shapes=True)\n",
    "\n",
    "model.compile(\n",
    "    loss=keras.losses.SparseCategoricalCrossentropy(from_logits=True),\n",
    "    optimizer=keras.optimizers.Adam(learning_rate=0.0001),\n",
    "    metrics=['accuracy']\n",
    ")"
   ]
  },
  {
   "cell_type": "code",
   "execution_count": 65,
   "id": "419c08d5",
   "metadata": {},
   "outputs": [
    {
     "name": "stdout",
     "output_type": "stream",
     "text": [
      "Epoch 1/10\n"
     ]
    },
    {
     "name": "stderr",
     "output_type": "stream",
     "text": [
      "2025-08-14 02:30:37.522635: E external/local_xla/xla/stream_executor/cuda/cuda_timer.cc:86] Delay kernel timed out: measured time has sub-optimal accuracy. There may be a missing warmup execution, please investigate in Nsight Systems.\n",
      "2025-08-14 02:30:37.703624: E external/local_xla/xla/stream_executor/cuda/cuda_timer.cc:86] Delay kernel timed out: measured time has sub-optimal accuracy. There may be a missing warmup execution, please investigate in Nsight Systems.\n",
      "2025-08-14 02:30:53.892910: I external/local_xla/xla/stream_executor/cuda/subprocess_compilation.cc:346] ptxas warning : Registers are spilled to local memory in function 'input_add_reduce_fusion', 4 bytes spill stores, 4 bytes spill loads\n",
      "ptxas warning : Registers are spilled to local memory in function 'input_add_reduce_fusion_10', 292 bytes spill stores, 292 bytes spill loads\n",
      "ptxas warning : Registers are spilled to local memory in function 'input_add_reduce_fusion_9', 516 bytes spill stores, 576 bytes spill loads\n",
      "ptxas warning : Registers are spilled to local memory in function 'input_add_reduce_fusion_8', 1936 bytes spill stores, 1972 bytes spill loads\n",
      "\n"
     ]
    },
    {
     "name": "stdout",
     "output_type": "stream",
     "text": [
      "      1/Unknown \u001b[1m29s\u001b[0m 29s/step - accuracy: 0.0000e+00 - loss: 0.9411"
     ]
    },
    {
     "name": "stderr",
     "output_type": "stream",
     "text": [
      "2025-08-14 02:30:57.247589: E external/local_xla/xla/stream_executor/cuda/cuda_timer.cc:86] Delay kernel timed out: measured time has sub-optimal accuracy. There may be a missing warmup execution, please investigate in Nsight Systems.\n",
      "2025-08-14 02:30:57.446400: E external/local_xla/xla/stream_executor/cuda/cuda_timer.cc:86] Delay kernel timed out: measured time has sub-optimal accuracy. There may be a missing warmup execution, please investigate in Nsight Systems.\n",
      "2025-08-14 02:31:18.805111: I external/local_xla/xla/stream_executor/cuda/subprocess_compilation.cc:346] ptxas warning : Registers are spilled to local memory in function 'input_add_reduce_fusion_11', 692 bytes spill stores, 692 bytes spill loads\n",
      "ptxas warning : Registers are spilled to local memory in function 'input_add_reduce_fusion_10', 96 bytes spill stores, 164 bytes spill loads\n",
      "ptxas warning : Registers are spilled to local memory in function 'input_add_reduce_fusion_9', 288 bytes spill stores, 296 bytes spill loads\n",
      "\n",
      "2025-08-14 02:31:18.884364: W external/local_xla/xla/tsl/framework/bfc_allocator.cc:382] Garbage collection: deallocate free memory regions (i.e., allocations) so that we can re-allocate a larger region to avoid OOM due to memory fragmentation. If you see this message frequently, you are running near the threshold of the available device memory and re-allocation may incur great performance overhead. You may try smaller batch sizes to observe the performance impact. Set TF_ENABLE_GPU_GARBAGE_COLLECTION=false if you'd like to disable this feature.\n"
     ]
    },
    {
     "name": "stdout",
     "output_type": "stream",
     "text": [
      "      4/Unknown \u001b[1m56s\u001b[0m 9s/step - accuracy: 0.3880 - loss: 1.8485 "
     ]
    },
    {
     "name": "stderr",
     "output_type": "stream",
     "text": [
      "/mnt/c/Users/BigBoi/Desktop/FP/fp-team-2-sose25/model/WLASL/.venv/lib/python3.12/site-packages/keras/src/trainers/epoch_iterator.py:164: UserWarning: Your input ran out of data; interrupting training. Make sure that your dataset or generator can generate at least `steps_per_epoch * epochs` batches. You may need to use the `.repeat()` function when building your dataset.\n",
      "  self._interrupted_warning()\n",
      "2025-08-14 02:31:24.237291: E external/local_xla/xla/stream_executor/cuda/cuda_timer.cc:86] Delay kernel timed out: measured time has sub-optimal accuracy. There may be a missing warmup execution, please investigate in Nsight Systems.\n",
      "2025-08-14 02:31:24.470967: E external/local_xla/xla/stream_executor/cuda/cuda_timer.cc:86] Delay kernel timed out: measured time has sub-optimal accuracy. There may be a missing warmup execution, please investigate in Nsight Systems.\n",
      "2025-08-14 02:31:24.655582: E external/local_xla/xla/stream_executor/cuda/cuda_timer.cc:86] Delay kernel timed out: measured time has sub-optimal accuracy. There may be a missing warmup execution, please investigate in Nsight Systems.\n"
     ]
    },
    {
     "name": "stdout",
     "output_type": "stream",
     "text": [
      "\u001b[1m4/4\u001b[0m \u001b[32m━━━━━━━━━━━━━━━━━━━━\u001b[0m\u001b[37m\u001b[0m \u001b[1m64s\u001b[0m 12s/step - accuracy: 0.3077 - loss: 3.5368 - val_accuracy: 0.4286 - val_loss: 1.8255\n",
      "Epoch 2/10\n",
      "\u001b[1m4/4\u001b[0m \u001b[32m━━━━━━━━━━━━━━━━━━━━\u001b[0m\u001b[37m\u001b[0m \u001b[1m2s\u001b[0m 452ms/step - accuracy: 0.0769 - loss: 1.7814 - val_accuracy: 0.4286 - val_loss: 1.5427\n",
      "Epoch 3/10\n"
     ]
    },
    {
     "name": "stderr",
     "output_type": "stream",
     "text": [
      "2025-08-14 02:31:30.139624: I tensorflow/core/framework/local_rendezvous.cc:426] Local rendezvous recv item cancelled. Key hash: 1282350972071706329\n"
     ]
    },
    {
     "name": "stdout",
     "output_type": "stream",
     "text": [
      "\u001b[1m4/4\u001b[0m \u001b[32m━━━━━━━━━━━━━━━━━━━━\u001b[0m\u001b[37m\u001b[0m \u001b[1m2s\u001b[0m 365ms/step - accuracy: 0.3846 - loss: 1.3752 - val_accuracy: 0.4286 - val_loss: 1.2201\n",
      "Epoch 4/10\n"
     ]
    },
    {
     "name": "stderr",
     "output_type": "stream",
     "text": [
      "2025-08-14 02:31:31.645449: I tensorflow/core/framework/local_rendezvous.cc:426] Local rendezvous recv item cancelled. Key hash: 12979953941962762409\n",
      "2025-08-14 02:31:31.645537: I tensorflow/core/framework/local_rendezvous.cc:426] Local rendezvous recv item cancelled. Key hash: 1282350972071706329\n"
     ]
    },
    {
     "name": "stdout",
     "output_type": "stream",
     "text": [
      "\u001b[1m4/4\u001b[0m \u001b[32m━━━━━━━━━━━━━━━━━━━━\u001b[0m\u001b[37m\u001b[0m \u001b[1m1s\u001b[0m 360ms/step - accuracy: 0.3846 - loss: 1.0994 - val_accuracy: 0.4286 - val_loss: 1.0850\n",
      "Epoch 5/10\n"
     ]
    },
    {
     "name": "stderr",
     "output_type": "stream",
     "text": [
      "2025-08-14 02:31:33.148158: I tensorflow/core/framework/local_rendezvous.cc:426] Local rendezvous recv item cancelled. Key hash: 12979953941962762409\n",
      "2025-08-14 02:31:33.148191: I tensorflow/core/framework/local_rendezvous.cc:426] Local rendezvous recv item cancelled. Key hash: 1282350972071706329\n",
      "2025-08-14 02:31:33.268397: I tensorflow/core/framework/local_rendezvous.cc:426] Local rendezvous recv item cancelled. Key hash: 12979953941962762409\n",
      "2025-08-14 02:31:33.268462: I tensorflow/core/framework/local_rendezvous.cc:426] Local rendezvous recv item cancelled. Key hash: 1282350972071706329\n"
     ]
    },
    {
     "name": "stdout",
     "output_type": "stream",
     "text": [
      "\u001b[1m4/4\u001b[0m \u001b[32m━━━━━━━━━━━━━━━━━━━━\u001b[0m\u001b[37m\u001b[0m \u001b[1m1s\u001b[0m 357ms/step - accuracy: 0.5385 - loss: 1.1337 - val_accuracy: 0.4286 - val_loss: 1.0896\n",
      "Epoch 6/10\n"
     ]
    },
    {
     "name": "stderr",
     "output_type": "stream",
     "text": [
      "2025-08-14 02:31:34.634129: I tensorflow/core/framework/local_rendezvous.cc:426] Local rendezvous recv item cancelled. Key hash: 12979953941962762409\n",
      "2025-08-14 02:31:34.634164: I tensorflow/core/framework/local_rendezvous.cc:426] Local rendezvous recv item cancelled. Key hash: 1282350972071706329\n",
      "2025-08-14 02:31:34.754736: I tensorflow/core/framework/local_rendezvous.cc:407] Local rendezvous is aborting with status: OUT_OF_RANGE: End of sequence\n",
      "\t [[{{node IteratorGetNext}}]]\n",
      "\t [[IteratorGetNext/_4]]\n",
      "2025-08-14 02:31:34.754780: I tensorflow/core/framework/local_rendezvous.cc:426] Local rendezvous recv item cancelled. Key hash: 12979953941962762409\n",
      "2025-08-14 02:31:34.754807: I tensorflow/core/framework/local_rendezvous.cc:426] Local rendezvous recv item cancelled. Key hash: 1282350972071706329\n"
     ]
    },
    {
     "name": "stdout",
     "output_type": "stream",
     "text": [
      "\u001b[1m4/4\u001b[0m \u001b[32m━━━━━━━━━━━━━━━━━━━━\u001b[0m\u001b[37m\u001b[0m \u001b[1m1s\u001b[0m 453ms/step - accuracy: 0.3846 - loss: 1.3162 - val_accuracy: 0.4286 - val_loss: 1.1115\n",
      "Epoch 7/10\n"
     ]
    },
    {
     "name": "stderr",
     "output_type": "stream",
     "text": [
      "2025-08-14 02:31:36.252793: I tensorflow/core/framework/local_rendezvous.cc:426] Local rendezvous recv item cancelled. Key hash: 12979953941962762409\n",
      "2025-08-14 02:31:36.252834: I tensorflow/core/framework/local_rendezvous.cc:426] Local rendezvous recv item cancelled. Key hash: 1282350972071706329\n"
     ]
    },
    {
     "name": "stdout",
     "output_type": "stream",
     "text": [
      "\u001b[1m4/4\u001b[0m \u001b[32m━━━━━━━━━━━━━━━━━━━━\u001b[0m\u001b[37m\u001b[0m \u001b[1m1s\u001b[0m 363ms/step - accuracy: 0.3846 - loss: 1.1933 - val_accuracy: 0.4286 - val_loss: 1.0230\n",
      "Epoch 8/10\n",
      "\u001b[1m4/4\u001b[0m \u001b[32m━━━━━━━━━━━━━━━━━━━━\u001b[0m\u001b[37m\u001b[0m \u001b[1m1s\u001b[0m 359ms/step - accuracy: 0.0769 - loss: 1.3192 - val_accuracy: 0.4286 - val_loss: 1.2187\n",
      "Epoch 9/10\n"
     ]
    },
    {
     "name": "stderr",
     "output_type": "stream",
     "text": [
      "2025-08-14 02:31:39.130390: I tensorflow/core/framework/local_rendezvous.cc:426] Local rendezvous recv item cancelled. Key hash: 12979953941962762409\n",
      "2025-08-14 02:31:39.130424: I tensorflow/core/framework/local_rendezvous.cc:426] Local rendezvous recv item cancelled. Key hash: 1282350972071706329\n"
     ]
    },
    {
     "name": "stdout",
     "output_type": "stream",
     "text": [
      "\u001b[1m4/4\u001b[0m \u001b[32m━━━━━━━━━━━━━━━━━━━━\u001b[0m\u001b[37m\u001b[0m \u001b[1m2s\u001b[0m 363ms/step - accuracy: 0.3846 - loss: 1.0656 - val_accuracy: 0.4286 - val_loss: 1.2020\n",
      "Epoch 10/10\n"
     ]
    },
    {
     "name": "stderr",
     "output_type": "stream",
     "text": [
      "2025-08-14 02:31:40.638288: I tensorflow/core/framework/local_rendezvous.cc:426] Local rendezvous recv item cancelled. Key hash: 12979953941962762409\n",
      "2025-08-14 02:31:40.638322: I tensorflow/core/framework/local_rendezvous.cc:426] Local rendezvous recv item cancelled. Key hash: 1282350972071706329\n"
     ]
    },
    {
     "name": "stdout",
     "output_type": "stream",
     "text": [
      "\u001b[1m4/4\u001b[0m \u001b[32m━━━━━━━━━━━━━━━━━━━━\u001b[0m\u001b[37m\u001b[0m \u001b[1m1s\u001b[0m 360ms/step - accuracy: 0.3462 - loss: 1.0870 - val_accuracy: 0.4286 - val_loss: 1.0352\n"
     ]
    },
    {
     "name": "stderr",
     "output_type": "stream",
     "text": [
      "2025-08-14 02:31:42.132008: I tensorflow/core/framework/local_rendezvous.cc:426] Local rendezvous recv item cancelled. Key hash: 12979953941962762409\n",
      "2025-08-14 02:31:42.132049: I tensorflow/core/framework/local_rendezvous.cc:426] Local rendezvous recv item cancelled. Key hash: 1282350972071706329\n"
     ]
    }
   ],
   "source": [
    "history = model.fit(\n",
    "    train_ds,\n",
    "    validation_data=val_ds,\n",
    "    epochs=10\n",
    ")"
   ]
  },
  {
   "cell_type": "code",
   "execution_count": 66,
   "id": "3ede67c9",
   "metadata": {},
   "outputs": [],
   "source": [
    "def plot_history(history):\n",
    "    \"\"\"Plot training and validation curves for loss and accuracy.\"\"\"\n",
    "    fig, (ax1, ax2) = plt.subplots(2)\n",
    "    fig.set_size_inches(8, 14)\n",
    "\n",
    "    # Plot loss\n",
    "    ax1.set_title('Loss')\n",
    "    ax1.plot(history.history['loss'], label='Train')\n",
    "    ax1.plot(history.history['val_loss'], label='Validation')\n",
    "    ax1.set_ylabel('Loss')\n",
    "\n",
    "    max_loss = max(history.history['loss'] + history.history['val_loss'])\n",
    "    ax1.set_ylim([0, np.ceil(max_loss)])\n",
    "    ax1.set_xlabel('Epoch')\n",
    "    ax1.legend()\n",
    "\n",
    "    # Plot accuracy\n",
    "    ax2.set_title('Accuracy')\n",
    "    ax2.plot(history.history['accuracy'], label='Train')\n",
    "    ax2.plot(history.history['val_accuracy'], label='Validation')\n",
    "    ax2.set_ylabel('Accuracy')\n",
    "    ax2.set_ylim([0, 1])\n",
    "    ax2.set_xlabel('Epoch')\n",
    "    ax2.legend()\n",
    "\n",
    "    plt.show()\n",
    "\n",
    "def get_actual_predicted_labels(dataset):\n",
    "    \"\"\"\n",
    "    Extract actual labels and predicted labels from a dataset.\n",
    "    \"\"\"\n",
    "    actual = [labels for _, labels in dataset.unbatch()]\n",
    "    actual = tf.stack(actual, axis=0)\n",
    "\n",
    "    predicted_logits = model.predict(dataset)\n",
    "    predicted = tf.argmax(predicted_logits, axis=1)\n",
    "\n",
    "    return actual, predicted\n",
    "\n",
    "def plot_confusion_matrix(actual, predicted, labels, ds_type):\n",
    "    num_classes = len(labels)\n",
    "    cm = tf.math.confusion_matrix(actual, predicted, num_classes=num_classes)\n",
    "\n",
    "    plt.figure(figsize=(12, 12))\n",
    "    ax = sns.heatmap(cm, annot=True, fmt='g', cmap=\"Blues\")\n",
    "    sns.set(font_scale=1.2)\n",
    "    ax.set_title(f'Confusion Matrix - {ds_type}')\n",
    "    ax.set_xlabel('Predicted')\n",
    "    ax.set_ylabel('Actual')\n",
    "    plt.xticks(rotation=90)\n",
    "    plt.yticks(rotation=0)\n",
    "    ax.xaxis.set_ticklabels(labels)\n",
    "    ax.yaxis.set_ticklabels(labels)\n",
    "    plt.show()\n",
    "\n",
    "    \n",
    "def calculate_classification_metrics(y_actual, y_pred, labels):\n",
    "    \"\"\"\n",
    "    Compute precision and recall per class.\n",
    "    Always outputs for all classes, even if some don't appear in test set.\n",
    "    \"\"\"\n",
    "    num_classes = len(labels)\n",
    "    cm = tf.math.confusion_matrix(y_actual, y_pred, num_classes=num_classes)\n",
    "    cm = cm.numpy()\n",
    "    tp = np.diag(cm)\n",
    "    precision = {}\n",
    "    recall = {}\n",
    "\n",
    "    for i, label in enumerate(labels):\n",
    "        col = cm[:, i]\n",
    "        fp = np.sum(col) - tp[i]\n",
    "        row = cm[i, :]\n",
    "        fn = np.sum(row) - tp[i]\n",
    "\n",
    "        precision[label] = tp[i] / (tp[i] + fp) if (tp[i] + fp) > 0 else 0.0\n",
    "        recall[label] = tp[i] / (tp[i] + fn) if (tp[i] + fn) > 0 else 0.0\n",
    "\n",
    "    return precision, recall\n"
   ]
  },
  {
   "cell_type": "code",
   "execution_count": 67,
   "id": "ca5fce86",
   "metadata": {},
   "outputs": [
    {
     "data": {
      "image/png": "[encoded data removed]",
      "text/plain": [
       "<Figure size 800x1400 with 2 Axes>"
      ]
     },
     "metadata": {},
     "output_type": "display_data"
    },
    {
     "name": "stdout",
     "output_type": "stream",
     "text": [
      "\u001b[1m1/1\u001b[0m \u001b[32m━━━━━━━━━━━━━━━━━━━━\u001b[0m\u001b[37m\u001b[0m \u001b[1m3s\u001b[0m 3s/step - accuracy: 0.0000e+00 - loss: 1.3990\n",
      "Test results: {'accuracy': 0.0, 'loss': 1.3989577293395996}\n"
     ]
    },
    {
     "ename": "ValueError",
     "evalue": "Input 0 of layer \"functional_33\" is incompatible with the layer: expected shape=(None, 20, 240, 200, 3), found shape=(2, 20, 200, 240, 3)",
     "output_type": "error",
     "traceback": [
      "\u001b[31m---------------------------------------------------------------------------\u001b[39m",
      "\u001b[31mValueError\u001b[39m                                Traceback (most recent call last)",
      "\u001b[36mCell\u001b[39m\u001b[36m \u001b[39m\u001b[32mIn[67]\u001b[39m\u001b[32m, line 13\u001b[39m\n\u001b[32m     10\u001b[39m labels = [label \u001b[38;5;28;01mfor\u001b[39;00m label, _ \u001b[38;5;129;01min\u001b[39;00m \u001b[38;5;28msorted\u001b[39m(train_gen.class_ids_for_name.items(), key=\u001b[38;5;28;01mlambda\u001b[39;00m x: x[\u001b[32m1\u001b[39m])]\n\u001b[32m     12\u001b[39m \u001b[38;5;66;03m# Actual vs predicted for test dataset\u001b[39;00m\n\u001b[32m---> \u001b[39m\u001b[32m13\u001b[39m actual, predicted = \u001b[43mget_actual_predicted_labels\u001b[49m\u001b[43m(\u001b[49m\u001b[43mtest_ds\u001b[49m\u001b[43m)\u001b[49m\n\u001b[32m     14\u001b[39m plot_confusion_matrix(actual, predicted, labels, \u001b[33m'\u001b[39m\u001b[33mTest\u001b[39m\u001b[33m'\u001b[39m)\n\u001b[32m     16\u001b[39m precision, recall = calculate_classification_metrics(actual, predicted, labels)\n",
      "\u001b[36mCell\u001b[39m\u001b[36m \u001b[39m\u001b[32mIn[66]\u001b[39m\u001b[32m, line 35\u001b[39m, in \u001b[36mget_actual_predicted_labels\u001b[39m\u001b[34m(dataset)\u001b[39m\n\u001b[32m     32\u001b[39m actual = [labels \u001b[38;5;28;01mfor\u001b[39;00m _, labels \u001b[38;5;129;01min\u001b[39;00m dataset.unbatch()]\n\u001b[32m     33\u001b[39m actual = tf.stack(actual, axis=\u001b[32m0\u001b[39m)\n\u001b[32m---> \u001b[39m\u001b[32m35\u001b[39m predicted_logits = \u001b[43mmodel\u001b[49m\u001b[43m.\u001b[49m\u001b[43mpredict\u001b[49m\u001b[43m(\u001b[49m\u001b[43mdataset\u001b[49m\u001b[43m)\u001b[49m\n\u001b[32m     36\u001b[39m predicted = tf.argmax(predicted_logits, axis=\u001b[32m1\u001b[39m)\n\u001b[32m     38\u001b[39m \u001b[38;5;28;01mreturn\u001b[39;00m actual, predicted\n",
      "\u001b[36mFile \u001b[39m\u001b[32m/mnt/c/Users/BigBoi/Desktop/FP/fp-team-2-sose25/model/WLASL/.venv/lib/python3.12/site-packages/keras/src/utils/traceback_utils.py:122\u001b[39m, in \u001b[36mfilter_traceback.<locals>.error_handler\u001b[39m\u001b[34m(*args, **kwargs)\u001b[39m\n\u001b[32m    119\u001b[39m     filtered_tb = _process_traceback_frames(e.__traceback__)\n\u001b[32m    120\u001b[39m     \u001b[38;5;66;03m# To get the full stack trace, call:\u001b[39;00m\n\u001b[32m    121\u001b[39m     \u001b[38;5;66;03m# `keras.config.disable_traceback_filtering()`\u001b[39;00m\n\u001b[32m--> \u001b[39m\u001b[32m122\u001b[39m     \u001b[38;5;28;01mraise\u001b[39;00m e.with_traceback(filtered_tb) \u001b[38;5;28;01mfrom\u001b[39;00m\u001b[38;5;250m \u001b[39m\u001b[38;5;28;01mNone\u001b[39;00m\n\u001b[32m    123\u001b[39m \u001b[38;5;28;01mfinally\u001b[39;00m:\n\u001b[32m    124\u001b[39m     \u001b[38;5;28;01mdel\u001b[39;00m filtered_tb\n",
      "\u001b[36mFile \u001b[39m\u001b[32m/mnt/c/Users/BigBoi/Desktop/FP/fp-team-2-sose25/model/WLASL/.venv/lib/python3.12/site-packages/keras/src/layers/input_spec.py:245\u001b[39m, in \u001b[36massert_input_compatibility\u001b[39m\u001b[34m(input_spec, inputs, layer_name)\u001b[39m\n\u001b[32m    243\u001b[39m \u001b[38;5;28;01mif\u001b[39;00m spec_dim \u001b[38;5;129;01mis\u001b[39;00m \u001b[38;5;129;01mnot\u001b[39;00m \u001b[38;5;28;01mNone\u001b[39;00m \u001b[38;5;129;01mand\u001b[39;00m dim \u001b[38;5;129;01mis\u001b[39;00m \u001b[38;5;129;01mnot\u001b[39;00m \u001b[38;5;28;01mNone\u001b[39;00m:\n\u001b[32m    244\u001b[39m     \u001b[38;5;28;01mif\u001b[39;00m spec_dim != dim:\n\u001b[32m--> \u001b[39m\u001b[32m245\u001b[39m         \u001b[38;5;28;01mraise\u001b[39;00m \u001b[38;5;167;01mValueError\u001b[39;00m(\n\u001b[32m    246\u001b[39m             \u001b[33mf\u001b[39m\u001b[33m'\u001b[39m\u001b[33mInput \u001b[39m\u001b[38;5;132;01m{\u001b[39;00minput_index\u001b[38;5;132;01m}\u001b[39;00m\u001b[33m of layer \u001b[39m\u001b[33m\"\u001b[39m\u001b[38;5;132;01m{\u001b[39;00mlayer_name\u001b[38;5;132;01m}\u001b[39;00m\u001b[33m\"\u001b[39m\u001b[33m is \u001b[39m\u001b[33m'\u001b[39m\n\u001b[32m    247\u001b[39m             \u001b[33m\"\u001b[39m\u001b[33mincompatible with the layer: \u001b[39m\u001b[33m\"\u001b[39m\n\u001b[32m    248\u001b[39m             \u001b[33mf\u001b[39m\u001b[33m\"\u001b[39m\u001b[33mexpected shape=\u001b[39m\u001b[38;5;132;01m{\u001b[39;00mspec.shape\u001b[38;5;132;01m}\u001b[39;00m\u001b[33m, \u001b[39m\u001b[33m\"\u001b[39m\n\u001b[32m    249\u001b[39m             \u001b[33mf\u001b[39m\u001b[33m\"\u001b[39m\u001b[33mfound shape=\u001b[39m\u001b[38;5;132;01m{\u001b[39;00mshape\u001b[38;5;132;01m}\u001b[39;00m\u001b[33m\"\u001b[39m\n\u001b[32m    250\u001b[39m         )\n",
      "\u001b[31mValueError\u001b[39m: Input 0 of layer \"functional_33\" is incompatible with the layer: expected shape=(None, 20, 240, 200, 3), found shape=(2, 20, 200, 240, 3)"
     ]
    }
   ],
   "source": [
    "# Plot training history\n",
    "plot_history(history)\n",
    "\n",
    "# Evaluate on test set\n",
    "test_results = model.evaluate(test_ds, return_dict=True)\n",
    "print(\"Test results:\", test_results)\n",
    "\n",
    "# Get the labels from the train generator mapping\n",
    "train_gen = FrameGenerator(split_map[\"train\"], N_FRAMES)\n",
    "labels = [label for label, _ in sorted(train_gen.class_ids_for_name.items(), key=lambda x: x[1])]\n",
    "\n",
    "# Actual vs predicted for test dataset\n",
    "actual, predicted = get_actual_predicted_labels(test_ds)\n",
    "plot_confusion_matrix(actual, predicted, labels, 'Test')\n",
    "\n",
    "precision, recall = calculate_classification_metrics(actual, predicted, labels)\n",
    "print(\"Precision per class:\", precision)\n",
    "print(\"Recall per class:\", recall)"
   ]
  }
 ],
 "metadata": {
  "kernelspec": {
   "display_name": ".venv",
   "language": "python",
   "name": "python3"
  },
  "language_info": {
   "codemirror_mode": {
    "name": "ipython",
    "version": 3
   },
   "file_extension": ".py",
   "mimetype": "text/x-python",
   "name": "python",
   "nbconvert_exporter": "python",
   "pygments_lexer": "ipython3",
   "version": "3.12.11"
  }
 },
 "nbformat": 4,
 "nbformat_minor": 5
}
